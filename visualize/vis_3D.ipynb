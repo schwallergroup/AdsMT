{
 "cells": [
  {
   "cell_type": "markdown",
   "metadata": {},
   "source": [
    "### 3D visualization of cross-attention score-colored surfaces and DFT-optimized adsorption configurations under GMAE"
   ]
  },
  {
   "cell_type": "code",
   "execution_count": null,
   "metadata": {},
   "outputs": [],
   "source": [
    "import torch\n",
    "from ase.io import read, write\n",
    "from utils import map_view, atoms_view, data2atoms, data2poscar\n",
    "\n",
    "data_list = torch.load(\"examples.pt\")"
   ]
  },
  {
   "cell_type": "code",
   "execution_count": null,
   "metadata": {},
   "outputs": [],
   "source": [
    "i = 0\n",
    "data = data_list[i].clone()\n",
    "atoms = data2atoms(data)\n",
    "gui1 = map_view(atoms, 'cross_weights')\n",
    "# gui1 = map_view(atoms, 'cross_weights', unitcell=False)\n",
    "gui1"
   ]
  },
  {
   "cell_type": "code",
   "execution_count": null,
   "metadata": {},
   "outputs": [],
   "source": [
    "gmae = data2atoms(data, gmae=True)\n",
    "gui2 = atoms_view(gmae)\n",
    "# gui2 = atoms_view(gmae, unitcell=False)\n",
    "gui2.view.control.orient(gui1.view._camera_orientation)\n",
    "gui2"
   ]
  },
  {
   "cell_type": "code",
   "execution_count": null,
   "metadata": {},
   "outputs": [],
   "source": [
    "gui1.view.download_image('cross-attention-score-colored_surface.png', transparent=True)"
   ]
  },
  {
   "cell_type": "code",
   "execution_count": null,
   "metadata": {},
   "outputs": [],
   "source": [
    "gui2.view.download_image('DFT-opt_ads_struc_GMAE.png', transparent=True)"
   ]
  }
 ],
 "metadata": {
  "kernelspec": {
   "display_name": "Python 3.9.17 ('global')",
   "language": "python",
   "name": "python3"
  },
  "language_info": {
   "codemirror_mode": {
    "name": "ipython",
    "version": 3
   },
   "file_extension": ".py",
   "mimetype": "text/x-python",
   "name": "python",
   "nbconvert_exporter": "python",
   "pygments_lexer": "ipython3",
   "version": "3.9.17"
  },
  "orig_nbformat": 4,
  "vscode": {
   "interpreter": {
    "hash": "acb8f9133ee5b48364ea5c9e23a4f5eadde1764cfc430f652ca1841cf9628825"
   }
  }
 },
 "nbformat": 4,
 "nbformat_minor": 2
}
